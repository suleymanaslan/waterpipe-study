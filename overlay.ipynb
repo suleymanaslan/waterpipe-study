{
 "cells": [
  {
   "cell_type": "code",
   "execution_count": null,
   "metadata": {},
   "outputs": [],
   "source": [
    "%matplotlib inline\n",
    "import matplotlib.pyplot as plt\n",
    "import pandas as pd\n",
    "import numpy as np\n",
    "\n",
    "menu_stats  = pd.concat([pd.read_csv('data/MENU_A_STATS.csv'),\n",
    "                         pd.read_csv('data/MENU_B_STATS.csv'),\n",
    "                         ])"
   ]
  },
  {
   "cell_type": "code",
   "execution_count": null,
   "metadata": {
    "pycharm": {
     "name": "#%%\n"
    }
   },
   "outputs": [],
   "source": [
    "min_entry_time = menu_stats[\"Menu Entry Time\"].min()\n",
    "max_entry_time = menu_stats[\"Menu Entry Time\"].max()\n",
    "\n",
    "min_entry_time, max_entry_time"
   ]
  },
  {
   "cell_type": "code",
   "execution_count": null,
   "metadata": {
    "pycharm": {
     "name": "#%%\n"
    }
   },
   "outputs": [],
   "source": [
    "non_entry_x = []\n",
    "non_entry_y = []\n",
    "entry_x = []\n",
    "entry_y = []\n",
    "min_phi = 9999\n",
    "max_phi = -9999\n",
    "min_theta = 9999\n",
    "max_theta = -9999\n",
    "for p_ix, p_id in enumerate(menu_stats[\"ID\"]):\n",
    "    p_data = pd.read_csv(f'data/tracking/{p_id}_MENU_{\"A\" if p_ix < 47 else \"B\"}.csv')\n",
    "    p_menu_entry_time = menu_stats[menu_stats[\"ID\"] == p_id][\"Menu Entry Time\"].item()\n",
    "    p_min_phi = p_data['gaze coord phi'].min()\n",
    "    p_max_phi = p_data['gaze coord phi'].max()\n",
    "    p_min_theta = p_data[' gaze coord theta'].min()\n",
    "    p_max_theta = p_data[' gaze coord theta'].max()\n",
    "    if min_phi > p_min_phi:\n",
    "        min_phi = p_min_phi\n",
    "    if max_phi < p_max_phi:\n",
    "        max_phi = p_max_phi\n",
    "    if min_theta > p_min_theta:\n",
    "        min_theta = p_min_theta\n",
    "    if max_theta < p_max_theta:\n",
    "        max_theta = p_max_theta\n",
    "    p_data = p_data[p_data[\"VideoTime\"] >= min_entry_time]\n",
    "    p_data = p_data[p_data[\"VideoTime\"] <= p_menu_entry_time]\n",
    "    # rho = 1\n",
    "    # p_data['x'] = rho*np.sin(p_data['gaze coord phi'])*np.cos(p_data[\" gaze coord theta\"])\n",
    "    # p_data['y'] = rho*np.sin(p_data['gaze coord phi'])*np.sin(p_data[\" gaze coord theta\"])\n",
    "    p_data['x'] = p_data['gaze coord phi']/np.pi\n",
    "    p_data['y'] = p_data[\" gaze coord theta\"]/(np.pi/2)\n",
    "    p_non_entry_x = p_data[p_data[\"VideoTime\"] < p_menu_entry_time]['x'].to_numpy()\n",
    "    p_non_entry_y = p_data[p_data[\"VideoTime\"] < p_menu_entry_time]['y'].to_numpy()\n",
    "    p_entry_x = p_data[p_data[\"VideoTime\"] >= p_menu_entry_time]['x'].to_numpy()\n",
    "    p_entry_y = p_data[p_data[\"VideoTime\"] >= p_menu_entry_time]['y'].to_numpy()\n",
    "    non_entry_x.append(p_non_entry_x)\n",
    "    non_entry_y.append(p_non_entry_y)\n",
    "    entry_x.append(p_entry_x)\n",
    "    entry_y.append(p_entry_y)\n",
    "    # print(p_menu_entry_time, p_data.iloc[-1][\"VideoTime\"])\n",
    "    # if p_ix == 2:\n",
    "    #     break\n",
    "non_entry_x = np.concatenate(non_entry_x)\n",
    "non_entry_y = np.concatenate(non_entry_y)\n",
    "entry_x = np.concatenate(entry_x)\n",
    "entry_y = np.concatenate(entry_y)\n",
    "# print(non_entry_x.shape, non_entry_y.shape, entry_x.shape, entry_y.shape)\n",
    "\n",
    "non_entry_x = (non_entry_x+1)*0.5*7680\n",
    "entry_x = (entry_x+1)*0.5*7680\n",
    "\n",
    "non_entry_y = (non_entry_y+1)*0.5*3840\n",
    "entry_y = (entry_y+1)*0.5*3840\n",
    "\n",
    "plt.scatter(non_entry_x, non_entry_y, alpha=1, color=\"r\")\n",
    "plt.scatter(entry_x, entry_y, alpha=1, color=\"g\")\n",
    "plt.xlim(0, 7680)\n",
    "plt.ylim(0, 3840)\n",
    "plt.show()"
   ]
  },
  {
   "cell_type": "code",
   "execution_count": null,
   "metadata": {
    "pycharm": {
     "name": "#%%\n"
    }
   },
   "outputs": [],
   "source": [
    "plt.scatter(non_entry_x, non_entry_y, alpha=1, color=\"r\")\n",
    "plt.xlim(0, 7680)\n",
    "plt.ylim(0, 3840)\n",
    "plt.show()"
   ]
  },
  {
   "cell_type": "code",
   "execution_count": null,
   "metadata": {
    "pycharm": {
     "name": "#%%\n"
    }
   },
   "outputs": [],
   "source": [
    "plt.scatter(entry_x, entry_y, alpha=1, color=\"g\")\n",
    "plt.xlim(0, 7680)\n",
    "plt.ylim(0, 3840)\n",
    "plt.show()"
   ]
  },
  {
   "cell_type": "code",
   "execution_count": null,
   "metadata": {
    "pycharm": {
     "name": "#%%\n"
    }
   },
   "outputs": [],
   "source": [
    "import imageio\n",
    "\n",
    "menu_b = imageio.imread(\"data/screenshot.PNG\")"
   ]
  },
  {
   "cell_type": "code",
   "execution_count": null,
   "metadata": {
    "pycharm": {
     "name": "#%%\n"
    }
   },
   "outputs": [],
   "source": [
    "plt.figure(figsize=(16, 16))\n",
    "plt.scatter(entry_x, entry_y, alpha=1, color=\"g\")\n",
    "plt.imshow(np.flip(menu_b, axis=0), origin='lower')\n",
    "plt.xlim(0, 7680)\n",
    "plt.ylim(0, 3840)\n",
    "plt.show()"
   ]
  },
  {
   "cell_type": "code",
   "execution_count": null,
   "metadata": {
    "pycharm": {
     "name": "#%%\n"
    }
   },
   "outputs": [],
   "source": [
    "plt.figure(figsize=(16, 16))\n",
    "plt.scatter(non_entry_x, non_entry_y, alpha=1, color=\"g\")\n",
    "plt.imshow(np.flip(menu_b, axis=0), origin='lower')\n",
    "plt.xlim(0, 7680)\n",
    "plt.ylim(0, 3840)\n",
    "plt.show()"
   ]
  }
 ],
 "metadata": {
  "kernelspec": {
   "display_name": "Python 3",
   "language": "python",
   "name": "python3"
  },
  "language_info": {
   "codemirror_mode": {
    "name": "ipython",
    "version": 3
   },
   "file_extension": ".py",
   "mimetype": "text/x-python",
   "name": "python",
   "nbconvert_exporter": "python",
   "pygments_lexer": "ipython3",
   "version": "3.7.9"
  }
 },
 "nbformat": 4,
 "nbformat_minor": 1
}
