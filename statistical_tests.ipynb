{
 "cells": [
  {
   "cell_type": "code",
   "execution_count": null,
   "metadata": {
    "pycharm": {
     "name": "#%%\n"
    }
   },
   "outputs": [],
   "source": [
    "import pandas as pd\n",
    "from scipy.stats import ttest_ind\n",
    "\n",
    "menu_a = pd.read_csv('data/MENU_A_STATS.csv')\n",
    "menu_b = pd.read_csv('data/MENU_B_STATS.csv')"
   ]
  },
  {
   "cell_type": "code",
   "execution_count": null,
   "metadata": {
    "pycharm": {
     "name": "#%%\n"
    }
   },
   "outputs": [],
   "source": [
    "print(\"Menu\")\n",
    "print(f'Dwell Time, B:{menu_b[\"Menu Dwell Time\"].mean()}, B:{menu_a[\"Menu Dwell Time\"].mean()}')\n",
    "stat, p = ttest_ind(menu_b[\"Menu Dwell Time\"], menu_a[\"Menu Dwell Time\"], equal_var=False, alternative=\"greater\")\n",
    "print(f'stat={stat:.3f}, p={p:.3f}')\n",
    "print(f'{\"Significant\" if p < 0.05 else \"Not significant\"}, {\"***\" if p < 0.001 else \"**\" if p < 0.01 else \"*\" if p < 0.05 else \"\"}')\n",
    "\n",
    "print(f'Fixations, B:{menu_b[\"Menu Fixations\"].mean()}, B:{menu_a[\"Menu Fixations\"].mean()}')\n",
    "stat, p = ttest_ind(menu_b[\"Menu Fixations\"], menu_a[\"Menu Fixations\"], equal_var=False, alternative=\"less\")\n",
    "print(f'stat={stat:.3f}, p={p:.3f}')\n",
    "print(f'{\"Significant\" if p < 0.05 else \"Not significant\"}, {\"***\" if p < 0.001 else \"**\" if p < 0.01 else \"*\" if p < 0.05 else \"\"}')"
   ]
  },
  {
   "cell_type": "code",
   "execution_count": null,
   "metadata": {
    "pycharm": {
     "name": "#%%\n"
    }
   },
   "outputs": [],
   "source": [
    "print(\"Warning\")\n",
    "stat, p = ttest_ind(menu_b[\"Warning Entry Time\"], menu_a[\"Warning Entry Time\"], equal_var=False, alternative=\"less\")\n",
    "print(f'stat={stat:.3f}, p={p:.3f}')\n",
    "print(f'{\"Significant\" if p < 0.05 else \"Not significant\"}, {\"***\" if p < 0.001 else \"**\" if p < 0.01 else \"*\" if p < 0.05 else \"\"}')\n",
    "\n",
    "stat, p = ttest_ind(menu_b[\"Warning Dwell Time\"], menu_a[\"Warning Dwell Time\"], equal_var=False, alternative=\"greater\")\n",
    "print(f'stat={stat:.3f}, p={p:.3f}')\n",
    "print(f'{\"Significant\" if p < 0.05 else \"Not significant\"}, {\"***\" if p < 0.001 else \"**\" if p < 0.01 else \"*\" if p < 0.05 else \"\"}')\n",
    "\n",
    "stat, p = ttest_ind(menu_b[\"Warning Fixations\"], menu_a[\"Warning Fixations\"], equal_var=False, alternative=\"greater\")\n",
    "print(f'stat={stat:.3f}, p={p:.3f}')\n",
    "print(f'{\"Significant\" if p < 0.05 else \"Not significant\"}, {\"***\" if p < 0.001 else \"**\" if p < 0.01 else \"*\" if p < 0.05 else \"\"}')"
   ]
  },
  {
   "cell_type": "code",
   "execution_count": null,
   "metadata": {
    "pycharm": {
     "name": "#%%\n"
    }
   },
   "outputs": [],
   "source": [
    "print(\"Nicotine\")\n",
    "stat, p = ttest_ind(menu_b[\"Nicotine Entry Time\"], menu_a[\"Nicotine Entry Time\"], equal_var=False, alternative=\"less\")\n",
    "print(f'stat={stat:.3f}, p={p:.3f}')\n",
    "print(f'{\"Significant\" if p < 0.05 else \"Not significant\"}, {\"***\" if p < 0.001 else \"**\" if p < 0.01 else \"*\" if p < 0.05 else \"\"}')\n",
    "\n",
    "stat, p = ttest_ind(menu_b[\"Nicotine Dwell Time\"], menu_a[\"Nicotine Dwell Time\"], equal_var=False, alternative=\"greater\")\n",
    "print(f'stat={stat:.3f}, p={p:.3f}')\n",
    "print(f'{\"Significant\" if p < 0.05 else \"Not significant\"}, {\"***\" if p < 0.001 else \"**\" if p < 0.01 else \"*\" if p < 0.05 else \"\"}')\n",
    "\n",
    "stat, p = ttest_ind(menu_b[\"Nicotine Fixations\"], menu_a[\"Nicotine Fixations\"], equal_var=False, alternative=\"greater\")\n",
    "print(f'stat={stat:.3f}, p={p:.3f}')\n",
    "print(f'{\"Significant\" if p < 0.05 else \"Not significant\"}, {\"***\" if p < 0.001 else \"**\" if p < 0.01 else \"*\" if p < 0.05 else \"\"}')"
   ]
  },
  {
   "cell_type": "code",
   "execution_count": null,
   "metadata": {
    "pycharm": {
     "name": "#%%\n"
    }
   },
   "outputs": [],
   "source": [
    "print(\"Flavor\")\n",
    "stat, p = ttest_ind(menu_b[\"Flavor Entry Time\"], menu_a[\"Flavor Entry Time\"], equal_var=False, alternative=\"greater\")\n",
    "print(f'stat={stat:.3f}, p={p:.3f}')\n",
    "print(f'{\"Significant\" if p < 0.05 else \"Not significant\"}, {\"***\" if p < 0.001 else \"**\" if p < 0.01 else \"*\" if p < 0.05 else \"\"}')\n",
    "\n",
    "stat, p = ttest_ind(menu_b[\"Flavor Dwell Time\"], menu_a[\"Flavor Dwell Time\"], equal_var=False, alternative=\"less\")\n",
    "print(f'stat={stat:.3f}, p={p:.3f}')\n",
    "print(f'{\"Significant\" if p < 0.05 else \"Not significant\"}, {\"***\" if p < 0.001 else \"**\" if p < 0.01 else \"*\" if p < 0.05 else \"\"}')\n",
    "\n",
    "stat, p = ttest_ind(menu_b[\"Flavor Fixations\"], menu_a[\"Flavor Fixations\"], equal_var=False, alternative=\"two-sided\")\n",
    "print(f'stat={stat:.3f}, p={p:.3f}')\n",
    "print(f'{\"Significant\" if p < 0.05 else \"Not significant\"}, {\"***\" if p < 0.001 else \"**\" if p < 0.01 else \"*\" if p < 0.05 else \"\"}')"
   ]
  },
  {
   "cell_type": "code",
   "execution_count": null,
   "metadata": {
    "pycharm": {
     "name": "#%%\n"
    }
   },
   "outputs": [],
   "source": [
    "print(\"Ratio\")\n",
    "stat, p = ttest_ind(menu_b[\"Ingredient Dwell Time\"]/menu_b[\"Flavor Dwell Time\"],\n",
    "                    menu_a[\"Ingredient Dwell Time\"]/menu_a[\"Flavor Dwell Time\"],\n",
    "                    equal_var=False, alternative=\"two-sided\")\n",
    "print(f'stat={stat:.3f}, p={p:.3f}')\n",
    "print(f'{\"Significant\" if p < 0.05 else \"Not significant\"}, {\"***\" if p < 0.001 else \"**\" if p < 0.01 else \"*\" if p < 0.05 else \"\"}')\n"
   ]
  }
 ],
 "metadata": {
  "kernelspec": {
   "display_name": "Python 3",
   "language": "python",
   "name": "python3"
  },
  "language_info": {
   "codemirror_mode": {
    "name": "ipython",
    "version": 3
   },
   "file_extension": ".py",
   "mimetype": "text/x-python",
   "name": "python",
   "nbconvert_exporter": "python",
   "pygments_lexer": "ipython3",
   "version": "3.7.9"
  }
 },
 "nbformat": 4,
 "nbformat_minor": 1
}
