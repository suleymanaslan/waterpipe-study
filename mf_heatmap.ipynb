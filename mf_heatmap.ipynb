{
 "cells": [
  {
   "cell_type": "code",
   "execution_count": null,
   "metadata": {},
   "outputs": [],
   "source": [
    "import pandas as pd\n",
    "from scipy.stats import ttest_ind\n",
    "\n",
    "menu_a = pd.read_csv('data/MENU_B_STATS.csv')\n",
    "menu_a = menu_a.set_index(\"ID\")\n",
    "demographics = pd.read_csv(f'data/demographics.csv')\n",
    "demographics = demographics.rename(columns={\"Participant ID\": \"ID\"})\n",
    "demographics = demographics.set_index(\"ID\")\n",
    "\n",
    "menu_a = menu_a.join(demographics)\n",
    "menu_male = menu_a[menu_a[\"Gender\"] == 1]\n",
    "menu_female = menu_a[menu_a[\"Gender\"] == 2]"
   ]
  },
  {
   "cell_type": "code",
   "execution_count": null,
   "metadata": {
    "pycharm": {
     "name": "#%%\n"
    }
   },
   "outputs": [],
   "source": [
    "print(\"Warning\")\n",
    "stat, p = ttest_ind(menu_male[\"Warning Dwell Time\"], menu_female[\"Warning Dwell Time\"], equal_var=False, alternative=\"two-sided\")\n",
    "print(f'stat={stat:.3f}, p={p:.3f}')\n",
    "print(f'{\"Significant\" if p < 0.05 else \"Not significant\"}, {\"***\" if p < 0.001 else \"**\" if p < 0.01 else \"*\" if p < 0.05 else \"\"}')\n",
    "\n",
    "stat, p = ttest_ind(menu_male[\"Warning Fixations\"], menu_female[\"Warning Fixations\"], equal_var=False, alternative=\"greater\")\n",
    "print(f'stat={stat:.3f}, p={p:.3f}')\n",
    "print(f'{\"Significant\" if p < 0.05 else \"Not significant\"}, {\"***\" if p < 0.001 else \"**\" if p < 0.01 else \"*\" if p < 0.05 else \"\"}')"
   ]
  },
  {
   "cell_type": "code",
   "execution_count": null,
   "metadata": {
    "pycharm": {
     "name": "#%%\n"
    }
   },
   "outputs": [],
   "source": [
    "import numpy as np\n",
    "import matplotlib.pyplot as plt\n",
    "import imageio\n",
    "import cv2\n",
    "from matplotlib import colors\n",
    "\n",
    "def fixation_detection(data, max_dist=25, min_dur=50):\n",
    "\ts_fix = []\n",
    "\te_fix = []\n",
    "\n",
    "\tx = data[\"x\"].to_numpy()\n",
    "\ty = data[\"y\"].to_numpy()\n",
    "\ttime = data[\"VideoTime\"].to_numpy()\n",
    "\n",
    "\tsi = 0\n",
    "\tfix_start = False\n",
    "\tfor i in range(1,len(x)):\n",
    "\t\tsquared_distance = ((x[si]-x[i])**2 + (y[si]-y[i])**2)\n",
    "\t\tdist = 0.0\n",
    "\t\tif squared_distance > 0:\n",
    "\t\t\tdist = squared_distance**0.5\n",
    "\t\tif dist <= max_dist and not fix_start:\n",
    "\t\t\tsi = 0 + i\n",
    "\t\t\tfix_start = True\n",
    "\t\t\ts_fix.append([time[i]])\n",
    "\t\telif dist > max_dist and fix_start:\n",
    "\t\t\tfix_start = False\n",
    "\t\t\tif time[i-1]-s_fix[-1][0] >= min_dur:\n",
    "\t\t\t\te_fix.append([s_fix[-1][0], time[i-1], time[i-1]-s_fix[-1][0], x[si], y[si]])\n",
    "\t\t\telse:\n",
    "\t\t\t\ts_fix.pop(-1)\n",
    "\t\t\tsi = 0 + i\n",
    "\t\telif not fix_start:\n",
    "\t\t\tsi += 1\n",
    "\tif len(s_fix) > len(e_fix):\n",
    "\t\te_fix.append([s_fix[-1][0], time[len(x)-1], time[len(x)-1]-s_fix[-1][0], x[si], y[si]])\n",
    "\treturn s_fix, e_fix\n",
    "\n",
    "overlay_width = 7680//6\n",
    "overlay_height = 3840//6\n",
    "\n",
    "canvas_x_1 = (overlay_width*1.35)//3\n",
    "canvas_x_2 = (overlay_width*1.75)//3\n",
    "\n",
    "canvas_y_1 = (overlay_height*1.2)//4\n",
    "canvas_y_2 = (overlay_height*2.4)//4\n",
    "\n",
    "overlay_img = imageio.imread(f\"data/screenshot_B.PNG\")\n",
    "overlay_img = cv2.resize(overlay_img, (overlay_width, overlay_height))\n",
    "\n",
    "m_fixations_x = []\n",
    "m_fixations_y = []\n",
    "f_fixations_x = []\n",
    "f_fixations_y = []\n",
    "\n",
    "demographics = pd.read_csv(f'data/demographics.csv')\n",
    "for p_id in demographics[\"Participant ID\"]:\n",
    "\tp_gender = demographics[demographics[\"Participant ID\"] == p_id][\"Gender\"].item()\n",
    "\tp_group = demographics[demographics[\"Participant ID\"] == p_id][\"Group\"].item()\n",
    "\tif p_group == 1:\n",
    "\t\tcontinue\n",
    "\tplot_color = \"r\" if p_gender == 1 else \"g\"\n",
    "\n",
    "\ttracking_data = pd.read_csv(f'data/tracking/{p_id}_MENU_B.csv')\n",
    "\ttracking_data['x'] = tracking_data['gaze coord phi']/np.pi\n",
    "\ttracking_data['y'] = tracking_data[\" gaze coord theta\"]/(np.pi/2)\n",
    "\ttracking_data['x'] = (tracking_data['x']+1)*0.5*overlay_width\n",
    "\ttracking_data['y'] = (tracking_data['y']+1)*0.5*overlay_height\n",
    "\ttracking_data = tracking_data[tracking_data[\"VideoTime\"] > 95]\n",
    "\ttracking_data = tracking_data[tracking_data[\"VideoTime\"] < 215]\n",
    "\n",
    "\ts_fix, e_fix = fixation_detection(tracking_data, max_dist=15, min_dur=0.05)\n",
    "\n",
    "\ttracking_fixations = pd.DataFrame({\"VideoTime\": np.array(e_fix)[:,0], \"x\": np.array(e_fix)[:,3], \"y\": np.array(e_fix)[:,4]})\n",
    "\ttracking_fixations = tracking_fixations[tracking_fixations[\"VideoTime\"] > 95]\n",
    "\ttracking_fixations = tracking_fixations[tracking_fixations[\"VideoTime\"] < 215]\n",
    "\n",
    "\tif p_gender == 1:\n",
    "\t\tm_fixations_x.append(tracking_fixations['x'])\n",
    "\t\tm_fixations_y.append(tracking_fixations['y'])\n",
    "\telse:\n",
    "\t\tf_fixations_x.append(tracking_fixations['x'])\n",
    "\t\tf_fixations_y.append(tracking_fixations['y'])\n",
    "\n",
    "\t# plt.figure(figsize=(8, 8))\n",
    "\t# plt.imshow(np.flip(overlay_img, axis=0), origin='lower')\n",
    "\t# plt.hist2d(tracking_fixations['x'], tracking_fixations['y'],\n",
    "\t# \t\t   cmap=\"YlOrRd\" if p_gender == 1 else \"YlGnBu\",\n",
    "\t# \t\t   norm=colors.LogNorm(),\n",
    "\t# \t\t   range=[[canvas_x_1, canvas_x_2], [canvas_y_1, canvas_y_2]],\n",
    "\t# \t\t   bins=[20, 20], alpha=0.5)\n",
    "\t# plt.xlim(canvas_x_1, canvas_x_2)\n",
    "\t# plt.ylim(canvas_y_1, canvas_y_2)\n",
    "\t# plt.savefig(f\"heatmaps/{'M' if p_gender == 1 else 'F'}_{p_id}.png\", bbox_inches='tight')\n",
    "\t# plt.close()"
   ]
  },
  {
   "cell_type": "code",
   "execution_count": null,
   "metadata": {
    "pycharm": {
     "name": "#%%\n"
    }
   },
   "outputs": [],
   "source": [
    "# m_fixations_x = np.hstack(m_fixations_x)\n",
    "# m_fixations_y = np.hstack(m_fixations_y)\n",
    "# f_fixations_x = np.hstack(f_fixations_x)\n",
    "# f_fixations_y = np.hstack(f_fixations_y)\n",
    "\n",
    "plt.figure(figsize=(8, 8))\n",
    "plt.imshow(np.flip(overlay_img, axis=0), origin='lower')\n",
    "plt.hist2d(m_fixations_x, m_fixations_y,\n",
    "\t\t   cmap=\"YlOrRd\",\n",
    "\t\t   norm=colors.LogNorm(),\n",
    "\t\t   range=[[canvas_x_1, canvas_x_2], [canvas_y_1, canvas_y_2]],\n",
    "\t\t   bins=[20, 20], alpha=0.5)\n",
    "plt.xlim(canvas_x_1, canvas_x_2)\n",
    "plt.ylim(canvas_y_1, canvas_y_2)\n",
    "plt.savefig(f\"heatmaps/M_aggregate_B.png\", bbox_inches='tight')\n",
    "plt.close()"
   ]
  }
 ],
 "metadata": {
  "kernelspec": {
   "display_name": "Python 3",
   "language": "python",
   "name": "python3"
  },
  "language_info": {
   "codemirror_mode": {
    "name": "ipython",
    "version": 3
   },
   "file_extension": ".py",
   "mimetype": "text/x-python",
   "name": "python",
   "nbconvert_exporter": "python",
   "pygments_lexer": "ipython3",
   "version": "3.7.9"
  }
 },
 "nbformat": 4,
 "nbformat_minor": 1
}
