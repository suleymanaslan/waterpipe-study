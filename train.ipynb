{
 "cells": [
  {
   "cell_type": "code",
   "execution_count": null,
   "metadata": {
    "pycharm": {
     "name": "#%%\n"
    }
   },
   "outputs": [],
   "source": [
    "import os\n",
    "import torch\n",
    "import numpy as np\n",
    "import pandas as pd\n",
    "\n",
    "class TrackingData:\n",
    "    def __init__(self):\n",
    "        self.gpu_device = torch.device(\"cuda:0\")\n",
    "        self.data_a = None\n",
    "        self.data_b = None\n",
    "        self.max_len = None\n",
    "        self.train_x = None\n",
    "        self.test_x = None\n",
    "        self.train_y = None\n",
    "        self.test_y = None\n",
    "        self.pinned = False\n",
    "        self.batch_size = 16\n",
    "\n",
    "        self._read_data()\n",
    "        self._pad_data()\n",
    "        self._split_data()\n",
    "        self._generate_temporal_data()\n",
    "        self._pin_to_gpu()\n",
    "\n",
    "    def _read_data(self):\n",
    "        self.data_a = []\n",
    "        self.data_b = []\n",
    "        self.max_len = 0\n",
    "        tracking_files = os.listdir(\"data/tracking\")\n",
    "        for tracking_file in tracking_files:\n",
    "            user_data = pd.read_csv(f'data/tracking/{tracking_file}')\n",
    "            user_data['x'] = np.cos(user_data['gaze coord phi'])*np.sin(user_data[\" gaze coord theta\"])\n",
    "            user_data['y'] = np.sin(user_data['gaze coord phi'])*np.sin(user_data[\" gaze coord theta\"])\n",
    "            user_data = user_data[[\"gaze coord phi\", \" gaze coord theta\", \"x\", \"y\"]].to_numpy()\n",
    "            if user_data.shape[0] > self.max_len:\n",
    "                self.max_len = user_data.shape[0]\n",
    "            if \"MENU_A\" in tracking_file:\n",
    "                self.data_a.append(user_data)\n",
    "            else:\n",
    "                self.data_b.append(user_data)\n",
    "        print(f\"Data loaded, MENU_A:{len(self.data_a)}, \"\n",
    "              f\"MENU_B:{len(self.data_b)}, \"\n",
    "              f\"Max_len:{self.max_len}\")\n",
    "\n",
    "    def _pad_data(self):\n",
    "        padded_a = []\n",
    "        padded_b = []\n",
    "        for user_data in self.data_a:\n",
    "            padded_data = np.zeros((self.max_len, 4))\n",
    "            padded_data[:user_data.shape[0]] = user_data\n",
    "            padded_a.append(padded_data)\n",
    "        for user_data in self.data_b:\n",
    "            padded_data = np.zeros((self.max_len, 4))\n",
    "            padded_data[:user_data.shape[0]] = user_data\n",
    "            padded_b.append(padded_data)\n",
    "        self.data_a = np.array(padded_a, dtype=np.float32).transpose((0, 2, 1))\n",
    "        self.data_b = np.array(padded_b, dtype=np.float32).transpose((0, 2, 1))\n",
    "        print(f\"MENU_A:{self.data_a.shape}, \"\n",
    "              f\"MENU_B:{self.data_b.shape}\")\n",
    "\n",
    "    def _split_data(self, size=5):\n",
    "        self.train_x = np.concatenate((self.data_a[:self.data_a.shape[0]-size], self.data_b[:self.data_b.shape[0]-size]))\n",
    "        self.test_x = np.concatenate((self.data_a[-size:], self.data_b[-size:]))\n",
    "        self.train_y = np.concatenate((np.zeros(self.data_a.shape[0]-size), np.ones(self.data_b.shape[0]-size)))\n",
    "        self.test_y = np.concatenate((np.zeros(size), np.ones(size)))\n",
    "        self.data_a = None\n",
    "        self.data_b = None\n",
    "        print(f\"train_x:{self.train_x.shape}, {self.train_x.dtype}, \\n\"\n",
    "              f\"test_x:{self.test_x.shape}, {self.train_x.dtype}, \\n\"\n",
    "              f\"train_y:{self.train_y.shape}, {self.train_x.dtype}, \\n\"\n",
    "              f\"test_y:{self.test_y.shape}, {self.train_x.dtype}\")\n",
    "\n",
    "    def _generate_temporal_data(self, temporal_step=15):\n",
    "        print(\"Generating temporal data...\")\n",
    "        shift_amounts = np.linspace(start=0, stop=self.max_len, num=temporal_step, endpoint=False, dtype=np.int32)\n",
    "        temporal_x = []\n",
    "        temporal_y = []\n",
    "        for shift_amount in shift_amounts:\n",
    "            shifted_x = np.roll(self.train_x, -shift_amount, axis=2)\n",
    "            shifted_x[:,:,:-shift_amount] = 0.0\n",
    "            temporal_x.append(shifted_x)\n",
    "            temporal_y.append(self.train_y)\n",
    "        self.train_x = np.concatenate(temporal_x)\n",
    "        self.train_y = np.concatenate(temporal_y)\n",
    "        temporal_x = []\n",
    "        temporal_y = []\n",
    "        for shift_amount in shift_amounts:\n",
    "            shifted_x = np.roll(self.test_x, -shift_amount, axis=2)\n",
    "            shifted_x[:,:,:-shift_amount] = 0.0\n",
    "            temporal_x.append(shifted_x)\n",
    "            temporal_y.append(self.test_y)\n",
    "        self.test_x = np.concatenate(temporal_x)\n",
    "        self.test_y = np.concatenate(temporal_y)\n",
    "        print(f\"train_x:{self.train_x.shape}, {self.train_x.dtype}, \\n\"\n",
    "              f\"test_x:{self.test_x.shape}, {self.train_x.dtype}, \\n\"\n",
    "              f\"train_y:{self.train_y.shape}, {self.train_x.dtype}, \\n\"\n",
    "              f\"test_y:{self.test_y.shape}, {self.train_x.dtype}\")\n",
    "\n",
    "    def _to_torch(self, data):\n",
    "        if self.pinned:\n",
    "            return data\n",
    "        return torch.from_numpy(data).to(self.gpu_device)\n",
    "\n",
    "    def _pin_to_gpu(self):\n",
    "        self.train_x = torch.from_numpy(self.train_x).to(self.gpu_device)\n",
    "        self.test_x = torch.from_numpy(self.test_x).to(self.gpu_device)\n",
    "        self.train_y = torch.from_numpy(self.train_y).to(self.gpu_device)\n",
    "        self.test_y = torch.from_numpy(self.test_y).to(self.gpu_device)\n",
    "        self.pinned = True\n",
    "\n",
    "    def get_train_batch(self, batch_size=None):\n",
    "        if batch_size is None:\n",
    "            batch_size = self.batch_size\n",
    "        batch_ix = np.random.choice(tracking_data.train_x.shape[0], batch_size)\n",
    "        batch_x = self.train_x[batch_ix]\n",
    "        batch_y = self.train_y[batch_ix]\n",
    "        return self._to_torch(batch_x), self._to_torch(batch_y)\n",
    "\n",
    "    def get_test_batch(self, batch_size=None):\n",
    "        if batch_size is None:\n",
    "            batch_size = self.batch_size\n",
    "        batch_ix = np.random.choice(tracking_data.test_x.shape[0], batch_size)\n",
    "        batch_x = self.test_x[batch_ix]\n",
    "        batch_y = self.test_y[batch_ix]\n",
    "        return self._to_torch(batch_x), self._to_torch(batch_y)"
   ]
  },
  {
   "cell_type": "code",
   "execution_count": null,
   "metadata": {
    "pycharm": {
     "name": "#%%\n"
    }
   },
   "outputs": [],
   "source": [
    "tracking_data = TrackingData()"
   ]
  },
  {
   "cell_type": "code",
   "execution_count": null,
   "metadata": {
    "pycharm": {
     "name": "#%%\n"
    }
   },
   "outputs": [],
   "source": [
    "print(tracking_data.data_a[:,0,:].mean(), tracking_data.data_a[:,0,:].min(), tracking_data.data_a[:,0,:].max(), \"\\n\",\n",
    "      tracking_data.data_a[:,1,:].mean(), tracking_data.data_a[:,1,:].min(), tracking_data.data_a[:,1,:].max(), \"\\n\",\n",
    "      tracking_data.data_a[:,2,:].mean(), tracking_data.data_a[:,2,:].min(), tracking_data.data_a[:,2,:].max(), \"\\n\",\n",
    "      tracking_data.data_a[:,3,:].mean(), tracking_data.data_a[:,3,:].min(), tracking_data.data_a[:,3,:].max())"
   ]
  },
  {
   "cell_type": "code",
   "execution_count": null,
   "metadata": {
    "pycharm": {
     "name": "#%%\n"
    }
   },
   "outputs": [],
   "source": [
    "print(tracking_data.data_b[:,0,:].mean(), tracking_data.data_b[:,0,:].min(), tracking_data.data_b[:,0,:].max(), \"\\n\",\n",
    "      tracking_data.data_b[:,1,:].mean(), tracking_data.data_b[:,1,:].min(), tracking_data.data_b[:,1,:].max(), \"\\n\",\n",
    "      tracking_data.data_b[:,2,:].mean(), tracking_data.data_b[:,2,:].min(), tracking_data.data_b[:,2,:].max(), \"\\n\",\n",
    "      tracking_data.data_b[:,3,:].mean(), tracking_data.data_b[:,3,:].min(), tracking_data.data_b[:,3,:].max())"
   ]
  },
  {
   "cell_type": "code",
   "execution_count": null,
   "metadata": {
    "pycharm": {
     "name": "#%%\n"
    }
   },
   "outputs": [],
   "source": [
    "import torch.nn as nn\n",
    "\n",
    "class ConvNet(nn.Module):\n",
    "    def __init__(self):\n",
    "        super(ConvNet, self).__init__()\n",
    "        self.block = nn.Sequential(nn.Conv1d(2, 4, kernel_size=3, stride=2, padding=1), nn.ReLU(inplace=True),\n",
    "                                   nn.Conv1d(4, 8, kernel_size=3, stride=2, padding=1), nn.ReLU(inplace=True),\n",
    "                                   nn.Conv1d(8, 16, kernel_size=3, stride=2, padding=1), nn.ReLU(inplace=True),\n",
    "                                   nn.Conv1d(16, 32, kernel_size=3, stride=2, padding=1), nn.ReLU(inplace=True),\n",
    "                                   nn.Conv1d(32, 64, kernel_size=3, stride=2, padding=1), nn.ReLU(inplace=True),\n",
    "                                   nn.Conv1d(64, 128, kernel_size=3, stride=2, padding=1), nn.ReLU(inplace=True),\n",
    "                                   nn.Conv1d(128, 64, kernel_size=3, stride=2, padding=1), nn.ReLU(inplace=True),\n",
    "                                   nn.Conv1d(64, 32, kernel_size=3, stride=2, padding=1), nn.ReLU(inplace=True),\n",
    "                                   nn.Conv1d(32, 16, kernel_size=3, stride=2, padding=1), nn.ReLU(inplace=True),\n",
    "                                   nn.Conv1d(16, 8, kernel_size=3, stride=2, padding=1), nn.ReLU(inplace=True),\n",
    "                                   nn.Conv1d(8, 4, kernel_size=3, stride=2, padding=1), nn.ReLU(inplace=True),\n",
    "                                   nn.Conv1d(4, 2, kernel_size=3, stride=2, padding=1), nn.ReLU(inplace=True),\n",
    "                                   nn.Conv1d(2, 1, kernel_size=5, stride=1, padding=0),\n",
    "                                   )\n",
    "\n",
    "    def forward(self, x):\n",
    "        x = self.block(x).flatten()\n",
    "        return x\n",
    "\n",
    "device = torch.device(\"cuda:0\")\n",
    "net = ConvNet().to(device)"
   ]
  },
  {
   "cell_type": "code",
   "execution_count": null,
   "metadata": {
    "pycharm": {
     "name": "#%%\n"
    }
   },
   "outputs": [],
   "source": [
    "import torch.optim as optim\n",
    "\n",
    "optimizer = optim.Adam(net.parameters(), lr=1e-4)\n",
    "loss_criterion = nn.BCEWithLogitsLoss()\n",
    "\n",
    "for i in range(10):\n",
    "    optimizer.zero_grad()\n",
    "    batch_x, batch_y = tracking_data.get_train_batch(batch_size=128)\n",
    "    net_out = net(batch_x)\n",
    "    loss = loss_criterion(net_out, batch_y)\n",
    "    loss.backward()\n",
    "    optimizer.step()\n",
    "    if i % 1 == 0:\n",
    "        print(f\"loss:{loss.item()}\")"
   ]
  },
  {
   "cell_type": "code",
   "execution_count": null,
   "metadata": {
    "pycharm": {
     "name": "#%%\n"
    }
   },
   "outputs": [],
   "source": [
    "net_out = net(tracking_data.test_x)\n",
    "loss_test = loss_criterion(net_out, tracking_data.test_y)\n",
    "loss_test.item()"
   ]
  },
  {
   "cell_type": "code",
   "execution_count": null,
   "metadata": {
    "pycharm": {
     "name": "#%%\n"
    }
   },
   "outputs": [],
   "source": [
    "sigmoid = nn.Sigmoid()\n",
    "preds = (sigmoid(net_out) > 0.5).to(dtype=torch.float32)\n",
    "acc = (tracking_data.test_y == preds).to(dtype=torch.float32).mean()\n",
    "acc"
   ]
  },
  {
   "cell_type": "code",
   "execution_count": null,
   "metadata": {
    "pycharm": {
     "name": "#%%\n"
    }
   },
   "outputs": [],
   "source": [
    "import time\n",
    "\n",
    "torch.save(net.state_dict(), f\"models/{int(time.time())}_loss_{loss_test.item():.4f}_acc_{acc:.4f}.pth\")"
   ]
  },
  {
   "cell_type": "code",
   "execution_count": null,
   "metadata": {
    "pycharm": {
     "name": "#%%\n"
    }
   },
   "outputs": [],
   "source": [
    "sigmoid = nn.Sigmoid()\n",
    "for i in range(tracking_data.test_x.shape[0] // 10):\n",
    "    net_out = net(tracking_data.test_x[i*10:(i+1)*10])\n",
    "    loss_test = loss_criterion(net_out, tracking_data.test_y[i*10:(i+1)*10]).item()\n",
    "    preds = (sigmoid(net_out) > 0.5).to(dtype=torch.float32)\n",
    "    acc = (tracking_data.test_y[i*10:(i+1)*10] == preds).to(dtype=torch.float32).mean()\n",
    "    print(f\"i:{i}, loss:{loss_test:.4f}, acc:{acc:.4f}\")"
   ]
  }
 ],
 "metadata": {
  "kernelspec": {
   "display_name": "Python 3",
   "language": "python",
   "name": "python3"
  },
  "language_info": {
   "codemirror_mode": {
    "name": "ipython",
    "version": 3
   },
   "file_extension": ".py",
   "mimetype": "text/x-python",
   "name": "python",
   "nbconvert_exporter": "python",
   "pygments_lexer": "ipython3",
   "version": "3.7.9"
  }
 },
 "nbformat": 4,
 "nbformat_minor": 1
}
