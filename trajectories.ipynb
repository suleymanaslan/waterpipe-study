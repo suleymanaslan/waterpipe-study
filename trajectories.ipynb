{
 "cells": [
  {
   "cell_type": "code",
   "execution_count": null,
   "metadata": {},
   "outputs": [],
   "source": [
    "import pandas as pd\n",
    "\n",
    "tracking_data = pd.read_csv('data/tracking/VR06_MENU_A.csv')"
   ]
  },
  {
   "cell_type": "code",
   "execution_count": null,
   "metadata": {
    "pycharm": {
     "name": "#%%\n"
    }
   },
   "outputs": [],
   "source": [
    "phi, theta = tracking_data[\"gaze coord phi\"].to_numpy(), tracking_data[\" gaze coord theta\"].to_numpy()"
   ]
  },
  {
   "cell_type": "code",
   "execution_count": null,
   "metadata": {
    "pycharm": {
     "name": "#%%\n"
    }
   },
   "outputs": [],
   "source": [
    "import numpy as np\n",
    "\n",
    "x = np.cos(phi)*np.sin(theta)\n",
    "y = np.sin(phi)*np.sin(theta)"
   ]
  },
  {
   "cell_type": "code",
   "execution_count": null,
   "metadata": {
    "pycharm": {
     "name": "#%%\n"
    }
   },
   "outputs": [],
   "source": [
    "%matplotlib inline\n",
    "import matplotlib.pyplot as plt\n",
    "\n",
    "# plt.scatter(x, y, s=plt.rcParams['lines.markersize'] ** 0.1)\n",
    "plt.scatter(x, y, alpha=0.1)\n",
    "plt.show()\n",
    "\n",
    "# plt.scatter(y, x, s=plt.rcParams['lines.markersize'] ** 0.1)\n",
    "# plt.scatter(y, x, alpha=0.1)\n",
    "# plt.show()"
   ]
  },
  {
   "cell_type": "code",
   "execution_count": null,
   "metadata": {
    "pycharm": {
     "name": "#%%\n"
    }
   },
   "outputs": [],
   "source": [
    "import imageio\n",
    "\n",
    "menu_b = imageio.imread(\"data/screenshot.PNG\")\n",
    "\n",
    "plt.imshow(menu_b)\n",
    "plt.show()"
   ]
  },
  {
   "cell_type": "code",
   "execution_count": null,
   "metadata": {
    "pycharm": {
     "name": "#%%\n"
    }
   },
   "outputs": [],
   "source": [
    "# canvas_x, canvas_y = menu_b.shape[:2]\n",
    "canvas_y, canvas_x = menu_b.shape[:2]"
   ]
  },
  {
   "cell_type": "code",
   "execution_count": null,
   "metadata": {
    "pycharm": {
     "name": "#%%\n"
    }
   },
   "outputs": [],
   "source": [
    "x_rescale = (canvas_x * (x - x.min()) / (x.max() - x.min())).astype(np.int)\n",
    "y_rescale = (canvas_y * (y - y.min()) / (y.max() - y.min())).astype(np.int)\n",
    "\n",
    "plt.scatter(x_rescale, y_rescale)\n",
    "plt.show()"
   ]
  },
  {
   "cell_type": "code",
   "execution_count": null,
   "metadata": {
    "pycharm": {
     "name": "#%%\n"
    }
   },
   "outputs": [],
   "source": [
    "plt.imshow(menu_b)\n",
    "plt.scatter(x_rescale, y_rescale, s=plt.rcParams['lines.markersize'] ** 0.1)\n",
    "# plt.scatter(y_rescale, x_rescale, s=plt.rcParams['lines.markersize'] ** 0.1)\n",
    "plt.show()"
   ]
  },
  {
   "cell_type": "code",
   "execution_count": null,
   "metadata": {
    "pycharm": {
     "name": "#%%\n"
    }
   },
   "outputs": [],
   "source": []
  }
 ],
 "metadata": {
  "kernelspec": {
   "display_name": "Python 3",
   "language": "python",
   "name": "python3"
  },
  "language_info": {
   "codemirror_mode": {
    "name": "ipython",
    "version": 3
   },
   "file_extension": ".py",
   "mimetype": "text/x-python",
   "name": "python",
   "nbconvert_exporter": "python",
   "pygments_lexer": "ipython3",
   "version": "3.7.9"
  }
 },
 "nbformat": 4,
 "nbformat_minor": 1
}
